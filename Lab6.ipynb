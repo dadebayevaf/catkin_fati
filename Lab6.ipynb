{
 "cells": [
  {
   "cell_type": "markdown",
   "metadata": {},
   "source": [
    "# 1. Preparation"
   ]
  },
  {
   "cell_type": "markdown",
   "metadata": {},
   "source": [
    "### Importing libraries"
   ]
  },
  {
   "cell_type": "code",
   "execution_count": 2,
   "metadata": {},
   "outputs": [],
   "source": [
    "import numpy as np \n",
    "import keras\n",
    "from tensorflow.keras.models import Sequential\n",
    "from keras.layers import Dense, Flatten, Dropout\n",
    "from tensorflow.keras.optimizers import Adam\n",
    "from keras.utils import np_utils \n",
    "from keras import backend as K \n",
    "import pandas as pd\n",
    "from sklearn.model_selection import train_test_split\n"
   ]
  },
  {
   "cell_type": "markdown",
   "metadata": {},
   "source": [
    "### Importing the data from dict.csv"
   ]
  },
  {
   "cell_type": "code",
   "execution_count": 3,
   "metadata": {},
   "outputs": [],
   "source": [
    "data = pd.read_csv(\"dict.csv\", header = None, names = [\"Angles\", \"XY\"])"
   ]
  },
  {
   "cell_type": "markdown",
   "metadata": {},
   "source": [
    "### Defining the dataset size"
   ]
  },
  {
   "cell_type": "code",
   "execution_count": 4,
   "metadata": {
    "scrolled": true
   },
   "outputs": [
    {
     "data": {
      "text/html": [
       "<div>\n",
       "<style scoped>\n",
       "    .dataframe tbody tr th:only-of-type {\n",
       "        vertical-align: middle;\n",
       "    }\n",
       "\n",
       "    .dataframe tbody tr th {\n",
       "        vertical-align: top;\n",
       "    }\n",
       "\n",
       "    .dataframe thead th {\n",
       "        text-align: right;\n",
       "    }\n",
       "</style>\n",
       "<table border=\"1\" class=\"dataframe\">\n",
       "  <thead>\n",
       "    <tr style=\"text-align: right;\">\n",
       "      <th></th>\n",
       "      <th>Angles</th>\n",
       "      <th>XY</th>\n",
       "    </tr>\n",
       "  </thead>\n",
       "  <tbody>\n",
       "    <tr>\n",
       "      <th>0</th>\n",
       "      <td>(0.3514, -0.2365, -0.1968, -0.1949, -0.0863)</td>\n",
       "      <td>[ 3.3793 -1.2376  0.25  ]</td>\n",
       "    </tr>\n",
       "    <tr>\n",
       "      <th>1</th>\n",
       "      <td>(0.3094, 0.4925, 0.4629, -0.1565, 0.3523)</td>\n",
       "      <td>[2.061  2.5772 0.25  ]</td>\n",
       "    </tr>\n",
       "    <tr>\n",
       "      <th>2</th>\n",
       "      <td>(0.1157, -0.4121, 0.0578, 0.3772, 0.428)</td>\n",
       "      <td>[3.4905 0.9227 0.25  ]</td>\n",
       "    </tr>\n",
       "    <tr>\n",
       "      <th>3</th>\n",
       "      <td>(0.339, -0.1037, -0.2424, 0.2975, 0.0062)</td>\n",
       "      <td>[ 3.6355 -0.1753  0.25  ]</td>\n",
       "    </tr>\n",
       "    <tr>\n",
       "      <th>4</th>\n",
       "      <td>(0.2312, -0.4059, -0.0095, 0.4335, 0.4635)</td>\n",
       "      <td>[3.4413 0.9989 0.25  ]</td>\n",
       "    </tr>\n",
       "    <tr>\n",
       "      <th>5</th>\n",
       "      <td>(-0.4137, 0.2597, 0.4613, -0.3463, -0.0408)</td>\n",
       "      <td>[3.4743 0.8149 0.25  ]</td>\n",
       "    </tr>\n",
       "    <tr>\n",
       "      <th>6</th>\n",
       "      <td>(0.4124, 0.2546, -0.2049, -0.0035, 0.2845)</td>\n",
       "      <td>[3.3598 1.3618 0.25  ]</td>\n",
       "    </tr>\n",
       "    <tr>\n",
       "      <th>7</th>\n",
       "      <td>(0.273, -0.0413, -0.2412, 0.2292, -0.4313)</td>\n",
       "      <td>[ 3.2972 -1.5038  0.25  ]</td>\n",
       "    </tr>\n",
       "    <tr>\n",
       "      <th>8</th>\n",
       "      <td>(-0.4171, -0.0979, -0.3272, -0.2378, 0.1323)</td>\n",
       "      <td>[ 3.3774 -0.8196  0.25  ]</td>\n",
       "    </tr>\n",
       "    <tr>\n",
       "      <th>9</th>\n",
       "      <td>(-0.165, 0.3236, -0.2667, -0.0649, -0.0461)</td>\n",
       "      <td>[3.663  0.0381 0.25  ]</td>\n",
       "    </tr>\n",
       "  </tbody>\n",
       "</table>\n",
       "</div>"
      ],
      "text/plain": [
       "                                         Angles                         XY\n",
       "0  (0.3514, -0.2365, -0.1968, -0.1949, -0.0863)  [ 3.3793 -1.2376  0.25  ]\n",
       "1     (0.3094, 0.4925, 0.4629, -0.1565, 0.3523)     [2.061  2.5772 0.25  ]\n",
       "2      (0.1157, -0.4121, 0.0578, 0.3772, 0.428)     [3.4905 0.9227 0.25  ]\n",
       "3     (0.339, -0.1037, -0.2424, 0.2975, 0.0062)  [ 3.6355 -0.1753  0.25  ]\n",
       "4    (0.2312, -0.4059, -0.0095, 0.4335, 0.4635)     [3.4413 0.9989 0.25  ]\n",
       "5   (-0.4137, 0.2597, 0.4613, -0.3463, -0.0408)     [3.4743 0.8149 0.25  ]\n",
       "6    (0.4124, 0.2546, -0.2049, -0.0035, 0.2845)     [3.3598 1.3618 0.25  ]\n",
       "7    (0.273, -0.0413, -0.2412, 0.2292, -0.4313)  [ 3.2972 -1.5038  0.25  ]\n",
       "8  (-0.4171, -0.0979, -0.3272, -0.2378, 0.1323)  [ 3.3774 -0.8196  0.25  ]\n",
       "9   (-0.165, 0.3236, -0.2667, -0.0649, -0.0461)     [3.663  0.0381 0.25  ]"
      ]
     },
     "execution_count": 4,
     "metadata": {},
     "output_type": "execute_result"
    }
   ],
   "source": [
    "data.head(10)"
   ]
  },
  {
   "cell_type": "markdown",
   "metadata": {},
   "source": [
    "### Labeling & Splitting"
   ]
  },
  {
   "cell_type": "code",
   "execution_count": 5,
   "metadata": {},
   "outputs": [],
   "source": [
    "train = data['Angles'].to_numpy()\n",
    "labels = data['XY'].to_numpy()"
   ]
  },
  {
   "cell_type": "code",
   "execution_count": 6,
   "metadata": {},
   "outputs": [],
   "source": [
    "X = list()\n",
    "Y = list()\n",
    "for i in range(len(train)):\n",
    "    labels[i] = labels[i].replace('   ', ' ')\n",
    "    labels[i] = labels[i].replace('  ', ' ')\n",
    "    labels[i] = labels[i].strip('[ ').strip(' ]')\n",
    "    train[i] = train[i].strip('(').strip(')')\n",
    "    result = [float(val) for val in train[i].split(',')]\n",
    "    X.append(result)\n",
    "    result = [float(val) for val in labels[i].split(' ')]\n",
    "    Y.append(result)"
   ]
  },
  {
   "cell_type": "code",
   "execution_count": 7,
   "metadata": {},
   "outputs": [],
   "source": [
    "X_train, X_test, y_train, y_test = train_test_split(np.asarray(X), np.asarray(Y), test_size=0.80)"
   ]
  },
  {
   "cell_type": "code",
   "execution_count": 8,
   "metadata": {
    "scrolled": true
   },
   "outputs": [
    {
     "name": "stdout",
     "output_type": "stream",
     "text": [
      "(200, 5)\n",
      "(200, 3)\n",
      "(801, 5)\n",
      "(801, 3)\n"
     ]
    }
   ],
   "source": [
    "print(np.shape(X_train))\n",
    "print(np.shape(y_train))\n",
    "print(np.shape(X_test))\n",
    "print(np.shape(y_test))"
   ]
  },
  {
   "cell_type": "markdown",
   "metadata": {},
   "source": [
    "# 2. Different losses"
   ]
  },
  {
   "cell_type": "markdown",
   "metadata": {},
   "source": [
    "### Mean Squared Logarithmic Error (MSLE)"
   ]
  },
  {
   "cell_type": "code",
   "execution_count": 9,
   "metadata": {},
   "outputs": [
    {
     "name": "stdout",
     "output_type": "stream",
     "text": [
      "RMSE: 0.01569\n"
     ]
    }
   ],
   "source": [
    "model = Sequential()\n",
    "model.add(Dense(10, input_dim =5, activation = 'relu'))\n",
    "model.add(Dense(16, activation = 'relu'))\n",
    "model.add(Dense(2, activation='linear'))\n",
    "model.compile(loss='mean_squared_logarithmic_error', optimizer=Adam(0.01))\n",
    "\n",
    "X_train, X_test, y_train, y_test = train_test_split(np.asarray(X), np.asarray(Y), test_size=0.80)\n",
    "y_train = np.delete(y_train, 2, 1)\n",
    "y_test = np.delete(y_test, 2, 1)\n",
    "model.fit(X_train, y_train, epochs = 10, verbose = 0)\n",
    "scores_msle = model.evaluate(X_test, y_test, verbose=0) \n",
    "print(\"RMSE: %.5f\" % (scores_msle))"
   ]
  },
  {
   "cell_type": "markdown",
   "metadata": {},
   "source": [
    "### Mean Absolute Error (MAE)"
   ]
  },
  {
   "cell_type": "code",
   "execution_count": 10,
   "metadata": {},
   "outputs": [
    {
     "name": "stdout",
     "output_type": "stream",
     "text": [
      "RMSE: 0.21591\n"
     ]
    }
   ],
   "source": [
    "model = Sequential()\n",
    "model.add(Dense(10, input_dim =5, activation = 'relu'))\n",
    "model.add(Dense(16, activation = 'relu'))\n",
    "model.add(Dense(2, activation='linear'))\n",
    "model.compile(loss='mean_absolute_error', optimizer=Adam(0.01))\n",
    "\n",
    "X_train, X_test, y_train, y_test = train_test_split(np.asarray(X), np.asarray(Y), test_size=0.80)\n",
    "y_train = np.delete(y_train, 2, 1)\n",
    "y_test = np.delete(y_test, 2, 1)\n",
    "model.fit(X_train, y_train, epochs = 10, verbose = 0)\n",
    "scores_mae = model.evaluate(X_test, y_test, verbose=0) \n",
    "print(\"RMSE: %.5f\" % (scores_mae))"
   ]
  },
  {
   "cell_type": "markdown",
   "metadata": {},
   "source": [
    "### Mean Squared Error (MSE)"
   ]
  },
  {
   "cell_type": "code",
   "execution_count": 11,
   "metadata": {},
   "outputs": [
    {
     "name": "stdout",
     "output_type": "stream",
     "text": [
      "RMSE: 0.15953\n"
     ]
    }
   ],
   "source": [
    "model = Sequential()\n",
    "model.add(Dense(10, input_dim =5, activation = 'relu'))\n",
    "model.add(Dense(16, activation = 'relu'))\n",
    "model.add(Dense(2, activation='linear'))\n",
    "model.compile(loss='mean_squared_error', optimizer=Adam(0.01))\n",
    "\n",
    "X_train, X_test, y_train, y_test = train_test_split(np.asarray(X), np.asarray(Y), test_size=0.80)\n",
    "y_train = np.delete(y_train, 2, 1)\n",
    "y_test = np.delete(y_test, 2, 1)\n",
    "model.fit(X_train, y_train, epochs = 10, verbose = 0)\n",
    "scores_mse = model.evaluate(X_test, y_test, verbose=0) \n",
    "print(\"RMSE: %.5f\" % (scores_mse))"
   ]
  },
  {
   "cell_type": "markdown",
   "metadata": {},
   "source": [
    "### Root-Mean-Square Error (RMSE)"
   ]
  },
  {
   "cell_type": "code",
   "execution_count": 12,
   "metadata": {},
   "outputs": [
    {
     "name": "stdout",
     "output_type": "stream",
     "text": [
      "RMSE: 0.26904\n"
     ]
    }
   ],
   "source": [
    "def rmse(y_true, y_pred):\n",
    "    return K.sqrt(K.mean(K.square(y_pred - y_true)))\n",
    "\n",
    "model = Sequential()\n",
    "model.add(Dense(10, input_dim =5, activation = 'relu'))\n",
    "model.add(Dense(16, activation = 'relu'))\n",
    "model.add(Dense(2, activation='linear'))\n",
    "model.compile(loss=rmse, optimizer=Adam(0.01))\n",
    "\n",
    "X_train, X_test, y_train, y_test = train_test_split(np.asarray(X), np.asarray(Y), test_size=0.80)\n",
    "y_train = np.delete(y_train, 2, 1)\n",
    "y_test = np.delete(y_test, 2, 1)\n",
    "model.fit(X_train, y_train, epochs = 10, verbose = 0)\n",
    "scores = model.evaluate(X_test, y_test, verbose=0) \n",
    "print(\"RMSE: %.5f\" % (scores))\n"
   ]
  },
  {
   "cell_type": "code",
   "execution_count": 15,
   "metadata": {},
   "outputs": [
    {
     "data": {
      "image/png": "[encoded data removed]",
      "text/plain": [
       "<Figure size 432x288 with 1 Axes>"
      ]
     },
     "metadata": {
      "needs_background": "light"
     },
     "output_type": "display_data"
    }
   ],
   "source": [
    "from matplotlib import pyplot as plt\n",
    "plt.bar(['MSLE', 'MAE', 'MSE', 'RMSE'],[scores_msle, scores_mae, scores_mse, scores])\n",
    "plt.xlabel(\"Loss functions\")\n",
    "plt.ylabel(\"Error value\")\n",
    "plt.title(\"Comparing loss functions\")\n",
    "plt.show()"
   ]
  },
  {
   "cell_type": "markdown",
   "metadata": {},
   "source": [
    "Simply by looking at this bar-chart we can conclude that it is of the best choice to use MSLE for further improvements"
   ]
  },
  {
   "cell_type": "markdown",
   "metadata": {},
   "source": [
    "# 3. Changing the number of layers"
   ]
  },
  {
   "cell_type": "markdown",
   "metadata": {},
   "source": [
    "The logic is the same as before but added loops & changed number of layers"
   ]
  },
  {
   "cell_type": "code",
   "execution_count": 18,
   "metadata": {},
   "outputs": [
    {
     "name": "stdout",
     "output_type": "stream",
     "text": [
      "Numer of layers: 2 |   RMSE: 0.02100\n",
      "Numer of layers: 3 |   RMSE: 0.01238\n",
      "Numer of layers: 4 |   RMSE: 0.00722\n",
      "Numer of layers: 5 |   RMSE: 0.01288\n",
      "Numer of layers: 6 |   RMSE: 1.08256\n",
      "Numer of layers: 7 |   RMSE: 1.08195\n",
      "Numer of layers: 8 |   RMSE: 0.12995\n",
      "Numer of layers: 9 |   RMSE: 0.04482\n",
      "Numer of layers: 10 |   RMSE: 0.12855\n",
      "Numer of layers: 11 |   RMSE: 0.12963\n",
      "Numer of layers: 12 |   RMSE: 0.05459\n",
      "Numer of layers: 13 |   RMSE: 0.13046\n",
      "Numer of layers: 14 |   RMSE: 0.07551\n",
      "Numer of layers: 15 |   RMSE: 0.04996\n",
      "Numer of layers: 16 |   RMSE: 0.08115\n",
      "Numer of layers: 17 |   RMSE: 0.12859\n",
      "Numer of layers: 18 |   RMSE: 0.12503\n",
      "Numer of layers: 19 |   RMSE: 1.20656\n",
      "Numer of layers: 20 |   RMSE: 0.08299\n",
      "Numer of layers: 21 |   RMSE: 0.08271\n",
      "Numer of layers: 22 |   RMSE: 0.08065\n",
      "Numer of layers: 23 |   RMSE: 0.13164\n",
      "Numer of layers: 24 |   RMSE: 0.12966\n",
      "Numer of layers: 25 |   RMSE: 0.13151\n",
      "Numer of layers: 26 |   RMSE: 0.12969\n",
      "Numer of layers: 27 |   RMSE: 0.08576\n",
      "Numer of layers: 28 |   RMSE: 1.15809\n",
      "Numer of layers: 29 |   RMSE: 0.08492\n",
      "Numer of layers: 30 |   RMSE: 0.09314\n",
      "Numer of layers: 31 |   RMSE: 1.20774\n",
      "Numer of layers: 32 |   RMSE: 1.15980\n",
      "Numer of layers: 33 |   RMSE: 0.13312\n",
      "Numer of layers: 34 |   RMSE: 0.12752\n",
      "Numer of layers: 35 |   RMSE: 0.08196\n",
      "Numer of layers: 36 |   RMSE: 0.08440\n",
      "Numer of layers: 37 |   RMSE: 0.12686\n",
      "Numer of layers: 38 |   RMSE: 0.08297\n",
      "Numer of layers: 39 |   RMSE: 0.13297\n",
      "Numer of layers: 40 |   RMSE: 1.20652\n",
      "Numer of layers: 41 |   RMSE: 1.19884\n",
      "Numer of layers: 42 |   RMSE: 1.19653\n",
      "Numer of layers: 43 |   RMSE: 1.20732\n",
      "Numer of layers: 44 |   RMSE: 1.20198\n",
      "Numer of layers: 45 |   RMSE: 1.20513\n",
      "Numer of layers: 46 |   RMSE: 1.21025\n",
      "Numer of layers: 47 |   RMSE: 1.20405\n",
      "Numer of layers: 48 |   RMSE: 1.20320\n",
      "Numer of layers: 49 |   RMSE: 1.20716\n",
      "Numer of layers: 50 |   RMSE: 1.20160\n"
     ]
    }
   ],
   "source": [
    "layers_scores = []\n",
    "\n",
    "for i in range(1,50):        # number of layers: 50\n",
    "    model = Sequential()\n",
    "    lnum = 0\n",
    "    model.add(Dense(10, input_dim =5, activation = 'relu'))\n",
    "    lnum += 1\n",
    "    \n",
    "    for r in range(1,i):\n",
    "        model.add(Dense(16, activation = 'relu'))\n",
    "        lnum += 1\n",
    "    model.add(Dense(2, activation='linear'))\n",
    "    lnum += 1\n",
    "    model.compile(loss='mean_squared_logarithmic_error', optimizer=Adam(0.01))\n",
    "\n",
    "    X_train, X_test, y_train, y_test = train_test_split(np.asarray(X), np.asarray(Y), test_size=0.80)\n",
    "    y_train = np.delete(y_train, 2, 1)\n",
    "    y_test = np.delete(y_test, 2, 1)\n",
    "    model.fit(X_train, y_train, epochs = 10, verbose = 0)\n",
    "    score = model.evaluate(X_test, y_test, verbose=0) \n",
    "    \n",
    "    print(\"Numer of layers: %d |   RMSE: %.5f\" % (lnum, score))\n",
    "    layers_scores.append(score)"
   ]
  },
  {
   "cell_type": "markdown",
   "metadata": {},
   "source": [
    "Instability begins at layer 5, so the number of layers to be used is 4."
   ]
  },
  {
   "cell_type": "markdown",
   "metadata": {},
   "source": [
    "# Optimizers test "
   ]
  },
  {
   "cell_type": "markdown",
   "metadata": {},
   "source": [
    "All optimizers are from tensorflow keras library. "
   ]
  },
  {
   "cell_type": "markdown",
   "metadata": {},
   "source": [
    "### Adamax "
   ]
  },
  {
   "cell_type": "code",
   "execution_count": 20,
   "metadata": {},
   "outputs": [
    {
     "name": "stdout",
     "output_type": "stream",
     "text": [
      "RMSE: 0.04108\n"
     ]
    }
   ],
   "source": [
    "from tensorflow.keras.optimizers import Adamax\n",
    "model = Sequential()\n",
    "model.add(Dense(10, input_dim =5, activation = 'relu'))\n",
    "model.add(Dense(16, activation = 'relu'))\n",
    "model.add(Dense(16, activation = 'relu'))\n",
    "model.add(Dense(2, activation='linear'))\n",
    "model.compile(loss='mean_squared_logarithmic_error', optimizer=Adamax(0.01))\n",
    "\n",
    "X_train, X_test, y_train, y_test = train_test_split(np.asarray(X), np.asarray(Y), test_size=0.80)\n",
    "y_train = np.delete(y_train, 2, 1)\n",
    "y_test = np.delete(y_test, 2, 1)\n",
    "model.fit(X_train, y_train, epochs = 10, verbose = 0)\n",
    "scores_adamax = model.evaluate(X_test, y_test, verbose=0) \n",
    "print(\"RMSE: %.5f\" % (scores_adamax))"
   ]
  },
  {
   "cell_type": "markdown",
   "metadata": {},
   "source": [
    "### Ftrl"
   ]
  },
  {
   "cell_type": "code",
   "execution_count": 21,
   "metadata": {},
   "outputs": [
    {
     "name": "stdout",
     "output_type": "stream",
     "text": [
      "RMSE: 1.17620\n"
     ]
    }
   ],
   "source": [
    "from tensorflow.keras.optimizers import Ftrl\n",
    "model = Sequential()\n",
    "model.add(Dense(10, input_dim =5, activation = 'relu'))\n",
    "model.add(Dense(16, activation = 'relu'))\n",
    "model.add(Dense(16, activation = 'relu'))\n",
    "model.add(Dense(2, activation='linear'))\n",
    "model.compile(loss='mean_squared_logarithmic_error', optimizer=Ftrl(0.01))\n",
    "\n",
    "X_train, X_test, y_train, y_test = train_test_split(np.asarray(X), np.asarray(Y), test_size=0.80)\n",
    "y_train = np.delete(y_train, 2, 1)\n",
    "y_test = np.delete(y_test, 2, 1)\n",
    "model.fit(X_train, y_train, epochs = 10, verbose = 0)\n",
    "scores_ftrl = model.evaluate(X_test, y_test, verbose=0) \n",
    "print(\"RMSE: %.5f\" % (scores_ftrl))"
   ]
  },
  {
   "cell_type": "markdown",
   "metadata": {},
   "source": [
    "### Nadam"
   ]
  },
  {
   "cell_type": "code",
   "execution_count": 22,
   "metadata": {},
   "outputs": [
    {
     "name": "stdout",
     "output_type": "stream",
     "text": [
      "RMSE: 0.01058\n"
     ]
    }
   ],
   "source": [
    "from tensorflow.keras.optimizers import Nadam\n",
    "model = Sequential()\n",
    "model.add(Dense(10, input_dim =5, activation = 'relu'))\n",
    "model.add(Dense(16, activation = 'relu'))\n",
    "model.add(Dense(16, activation = 'relu'))\n",
    "model.add(Dense(2, activation='linear'))\n",
    "model.compile(loss='mean_squared_logarithmic_error', optimizer=Nadam(0.01))\n",
    "\n",
    "X_train, X_test, y_train, y_test = train_test_split(np.asarray(X), np.asarray(Y), test_size=0.80)\n",
    "y_train = np.delete(y_train, 2, 1)\n",
    "y_test = np.delete(y_test, 2, 1)\n",
    "model.fit(X_train, y_train, epochs = 10, verbose = 0)\n",
    "scores_nadam = model.evaluate(X_test, y_test, verbose=0) \n",
    "print(\"RMSE: %.5f\" % (scores_nadam))"
   ]
  },
  {
   "cell_type": "markdown",
   "metadata": {},
   "source": [
    "### RMSprop"
   ]
  },
  {
   "cell_type": "code",
   "execution_count": 23,
   "metadata": {},
   "outputs": [
    {
     "name": "stdout",
     "output_type": "stream",
     "text": [
      "RMSE: 0.01747\n"
     ]
    }
   ],
   "source": [
    "from tensorflow.keras.optimizers import RMSprop\n",
    "model = Sequential()\n",
    "model.add(Dense(10, input_dim =5, activation = 'relu'))\n",
    "model.add(Dense(16, activation = 'relu'))\n",
    "model.add(Dense(16, activation = 'relu'))\n",
    "model.add(Dense(2, activation='linear'))\n",
    "model.compile(loss='mean_squared_logarithmic_error', optimizer=RMSprop(0.01))\n",
    "\n",
    "X_train, X_test, y_train, y_test = train_test_split(np.asarray(X), np.asarray(Y), test_size=0.80)\n",
    "y_train = np.delete(y_train, 2, 1)\n",
    "y_test = np.delete(y_test, 2, 1)\n",
    "model.fit(X_train, y_train, epochs = 10, verbose = 0)\n",
    "scores_rmsprop = model.evaluate(X_test, y_test, verbose=0) \n",
    "print(\"RMSE: %.5f\" % (scores_rmsprop))"
   ]
  },
  {
   "cell_type": "markdown",
   "metadata": {},
   "source": [
    "### Adam"
   ]
  },
  {
   "cell_type": "code",
   "execution_count": 24,
   "metadata": {},
   "outputs": [
    {
     "name": "stdout",
     "output_type": "stream",
     "text": [
      "RMSE: 0.13047\n"
     ]
    }
   ],
   "source": [
    "model = Sequential()\n",
    "model.add(Dense(10, input_dim =5, activation = 'relu'))\n",
    "model.add(Dense(16, activation = 'relu'))\n",
    "model.add(Dense(16, activation = 'relu'))\n",
    "model.add(Dense(2, activation='linear'))\n",
    "model.compile(loss='mean_squared_logarithmic_error', optimizer=Adam(0.01))\n",
    "\n",
    "X_train, X_test, y_train, y_test = train_test_split(np.asarray(X), np.asarray(Y), test_size=0.80)\n",
    "y_train = np.delete(y_train, 2, 1)\n",
    "y_test = np.delete(y_test, 2, 1)\n",
    "model.fit(X_train, y_train, epochs = 10, verbose = 0)\n",
    "scores_adam = model.evaluate(X_test, y_test, verbose=0) \n",
    "print(\"RMSE: %.5f\" % (scores_adam))"
   ]
  },
  {
   "cell_type": "markdown",
   "metadata": {},
   "source": [
    "Test results show that the best optimizer in my case is Nadam. "
   ]
  },
  {
   "cell_type": "markdown",
   "metadata": {},
   "source": [
    "### Results:\n",
    "#### Old RMSE: 0.26904 & New RMSE: 0.01058"
   ]
  },
  {
   "cell_type": "code",
   "execution_count": null,
   "metadata": {},
   "outputs": [],
   "source": []
  }
 ],
 "metadata": {
  "kernelspec": {
   "display_name": "Python 3",
   "language": "python",
   "name": "python3"
  },
  "language_info": {
   "codemirror_mode": {
    "name": "ipython",
    "version": 3
   },
   "file_extension": ".py",
   "mimetype": "text/x-python",
   "name": "python",
   "nbconvert_exporter": "python",
   "pygments_lexer": "ipython3",
   "version": "3.6.13"
  }
 },
 "nbformat": 4,
 "nbformat_minor": 2
}
